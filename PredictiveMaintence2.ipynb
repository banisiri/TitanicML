{
 "cells": [
  {
   "cell_type": "code",
   "execution_count": 1,
   "metadata": {},
   "outputs": [],
   "source": [
    "import numpy as np\n",
    "import pandas as pd"
   ]
  },
  {
   "cell_type": "code",
   "execution_count": 2,
   "metadata": {},
   "outputs": [
    {
     "data": {
      "text/plain": [
       "(   id Product ID Type  Air temperature [K]  Process temperature [K]  \\\n",
       " 0   0     L50096    L                300.6                    309.6   \n",
       " 1   1     M20343    M                302.6                    312.1   \n",
       " 2   2     L49454    L                299.3                    308.5   \n",
       " 3   3     L53355    L                301.0                    310.9   \n",
       " 4   4     M24050    M                298.0                    309.0   \n",
       " \n",
       "    Rotational speed [rpm]  Torque [Nm]  Tool wear [min]  Machine failure  TWF  \\\n",
       " 0                    1596         36.1              140                0    0   \n",
       " 1                    1759         29.1              200                0    0   \n",
       " 2                    1805         26.5               25                0    0   \n",
       " 3                    1524         44.3              197                0    0   \n",
       " 4                    1641         35.4               34                0    0   \n",
       " \n",
       "    HDF  PWF  OSF  RNF  \n",
       " 0    0    0    0    0  \n",
       " 1    0    0    0    0  \n",
       " 2    0    0    0    0  \n",
       " 3    0    0    0    0  \n",
       " 4    0    0    0    0  ,\n",
       "        id Product ID Type  Air temperature [K]  Process temperature [K]  \\\n",
       " 0  136429     L50896    L                302.3                    311.5   \n",
       " 1  136430     L53866    L                301.7                    311.0   \n",
       " 2  136431     L50498    L                301.3                    310.4   \n",
       " 3  136432     M21232    M                300.1                    309.6   \n",
       " 4  136433     M19751    M                303.4                    312.3   \n",
       " \n",
       "    Rotational speed [rpm]  Torque [Nm]  Tool wear [min]  TWF  HDF  PWF  OSF  \\\n",
       " 0                    1499         38.0               60    0    0    0    0   \n",
       " 1                    1713         28.8               17    0    0    0    0   \n",
       " 2                    1525         37.7               96    0    0    0    0   \n",
       " 3                    1479         47.6                5    0    0    0    0   \n",
       " 4                    1515         41.3              114    0    0    0    0   \n",
       " \n",
       "    RNF  \n",
       " 0    0  \n",
       " 1    0  \n",
       " 2    0  \n",
       " 3    0  \n",
       " 4    0  )"
      ]
     },
     "execution_count": 2,
     "metadata": {},
     "output_type": "execute_result"
    }
   ],
   "source": [
    "import seaborn as sns\n",
    "import matplotlib.pyplot as plt\n",
    "data_train=pd.read_csv(\"train.csv\")\n",
    "data_test=pd.read_csv(\"test.csv\")\n",
    "data_train.head(), data_test.head()"
   ]
  },
  {
   "cell_type": "code",
   "execution_count": 3,
   "metadata": {},
   "outputs": [
    {
     "data": {
      "text/html": [
       "<div>\n",
       "<style scoped>\n",
       "    .dataframe tbody tr th:only-of-type {\n",
       "        vertical-align: middle;\n",
       "    }\n",
       "\n",
       "    .dataframe tbody tr th {\n",
       "        vertical-align: top;\n",
       "    }\n",
       "\n",
       "    .dataframe thead th {\n",
       "        text-align: right;\n",
       "    }\n",
       "</style>\n",
       "<table border=\"1\" class=\"dataframe\">\n",
       "  <thead>\n",
       "    <tr style=\"text-align: right;\">\n",
       "      <th></th>\n",
       "      <th>id</th>\n",
       "      <th>Air temperature [K]</th>\n",
       "      <th>Process temperature [K]</th>\n",
       "      <th>Rotational speed [rpm]</th>\n",
       "      <th>Torque [Nm]</th>\n",
       "      <th>Tool wear [min]</th>\n",
       "      <th>Machine failure</th>\n",
       "      <th>TWF</th>\n",
       "      <th>HDF</th>\n",
       "      <th>PWF</th>\n",
       "      <th>OSF</th>\n",
       "      <th>RNF</th>\n",
       "    </tr>\n",
       "  </thead>\n",
       "  <tbody>\n",
       "    <tr>\n",
       "      <th>count</th>\n",
       "      <td>136429.000000</td>\n",
       "      <td>136429.000000</td>\n",
       "      <td>136429.000000</td>\n",
       "      <td>136429.000000</td>\n",
       "      <td>136429.000000</td>\n",
       "      <td>136429.000000</td>\n",
       "      <td>136429.000000</td>\n",
       "      <td>136429.000000</td>\n",
       "      <td>136429.000000</td>\n",
       "      <td>136429.000000</td>\n",
       "      <td>136429.000000</td>\n",
       "      <td>136429.000000</td>\n",
       "    </tr>\n",
       "    <tr>\n",
       "      <th>mean</th>\n",
       "      <td>68214.000000</td>\n",
       "      <td>299.862776</td>\n",
       "      <td>309.941070</td>\n",
       "      <td>1520.331110</td>\n",
       "      <td>40.348643</td>\n",
       "      <td>104.408901</td>\n",
       "      <td>0.015744</td>\n",
       "      <td>0.001554</td>\n",
       "      <td>0.005160</td>\n",
       "      <td>0.002397</td>\n",
       "      <td>0.003958</td>\n",
       "      <td>0.002258</td>\n",
       "    </tr>\n",
       "    <tr>\n",
       "      <th>std</th>\n",
       "      <td>39383.804275</td>\n",
       "      <td>1.862247</td>\n",
       "      <td>1.385173</td>\n",
       "      <td>138.736632</td>\n",
       "      <td>8.502229</td>\n",
       "      <td>63.965040</td>\n",
       "      <td>0.124486</td>\n",
       "      <td>0.039389</td>\n",
       "      <td>0.071649</td>\n",
       "      <td>0.048899</td>\n",
       "      <td>0.062789</td>\n",
       "      <td>0.047461</td>\n",
       "    </tr>\n",
       "    <tr>\n",
       "      <th>min</th>\n",
       "      <td>0.000000</td>\n",
       "      <td>295.300000</td>\n",
       "      <td>305.800000</td>\n",
       "      <td>1181.000000</td>\n",
       "      <td>3.800000</td>\n",
       "      <td>0.000000</td>\n",
       "      <td>0.000000</td>\n",
       "      <td>0.000000</td>\n",
       "      <td>0.000000</td>\n",
       "      <td>0.000000</td>\n",
       "      <td>0.000000</td>\n",
       "      <td>0.000000</td>\n",
       "    </tr>\n",
       "    <tr>\n",
       "      <th>25%</th>\n",
       "      <td>34107.000000</td>\n",
       "      <td>298.300000</td>\n",
       "      <td>308.700000</td>\n",
       "      <td>1432.000000</td>\n",
       "      <td>34.600000</td>\n",
       "      <td>48.000000</td>\n",
       "      <td>0.000000</td>\n",
       "      <td>0.000000</td>\n",
       "      <td>0.000000</td>\n",
       "      <td>0.000000</td>\n",
       "      <td>0.000000</td>\n",
       "      <td>0.000000</td>\n",
       "    </tr>\n",
       "    <tr>\n",
       "      <th>50%</th>\n",
       "      <td>68214.000000</td>\n",
       "      <td>300.000000</td>\n",
       "      <td>310.000000</td>\n",
       "      <td>1493.000000</td>\n",
       "      <td>40.400000</td>\n",
       "      <td>106.000000</td>\n",
       "      <td>0.000000</td>\n",
       "      <td>0.000000</td>\n",
       "      <td>0.000000</td>\n",
       "      <td>0.000000</td>\n",
       "      <td>0.000000</td>\n",
       "      <td>0.000000</td>\n",
       "    </tr>\n",
       "    <tr>\n",
       "      <th>75%</th>\n",
       "      <td>102321.000000</td>\n",
       "      <td>301.200000</td>\n",
       "      <td>310.900000</td>\n",
       "      <td>1580.000000</td>\n",
       "      <td>46.100000</td>\n",
       "      <td>159.000000</td>\n",
       "      <td>0.000000</td>\n",
       "      <td>0.000000</td>\n",
       "      <td>0.000000</td>\n",
       "      <td>0.000000</td>\n",
       "      <td>0.000000</td>\n",
       "      <td>0.000000</td>\n",
       "    </tr>\n",
       "    <tr>\n",
       "      <th>max</th>\n",
       "      <td>136428.000000</td>\n",
       "      <td>304.400000</td>\n",
       "      <td>313.800000</td>\n",
       "      <td>2886.000000</td>\n",
       "      <td>76.600000</td>\n",
       "      <td>253.000000</td>\n",
       "      <td>1.000000</td>\n",
       "      <td>1.000000</td>\n",
       "      <td>1.000000</td>\n",
       "      <td>1.000000</td>\n",
       "      <td>1.000000</td>\n",
       "      <td>1.000000</td>\n",
       "    </tr>\n",
       "  </tbody>\n",
       "</table>\n",
       "</div>"
      ],
      "text/plain": [
       "                  id  Air temperature [K]  Process temperature [K]  \\\n",
       "count  136429.000000        136429.000000            136429.000000   \n",
       "mean    68214.000000           299.862776               309.941070   \n",
       "std     39383.804275             1.862247                 1.385173   \n",
       "min         0.000000           295.300000               305.800000   \n",
       "25%     34107.000000           298.300000               308.700000   \n",
       "50%     68214.000000           300.000000               310.000000   \n",
       "75%    102321.000000           301.200000               310.900000   \n",
       "max    136428.000000           304.400000               313.800000   \n",
       "\n",
       "       Rotational speed [rpm]    Torque [Nm]  Tool wear [min]  \\\n",
       "count           136429.000000  136429.000000    136429.000000   \n",
       "mean              1520.331110      40.348643       104.408901   \n",
       "std                138.736632       8.502229        63.965040   \n",
       "min               1181.000000       3.800000         0.000000   \n",
       "25%               1432.000000      34.600000        48.000000   \n",
       "50%               1493.000000      40.400000       106.000000   \n",
       "75%               1580.000000      46.100000       159.000000   \n",
       "max               2886.000000      76.600000       253.000000   \n",
       "\n",
       "       Machine failure            TWF            HDF            PWF  \\\n",
       "count    136429.000000  136429.000000  136429.000000  136429.000000   \n",
       "mean          0.015744       0.001554       0.005160       0.002397   \n",
       "std           0.124486       0.039389       0.071649       0.048899   \n",
       "min           0.000000       0.000000       0.000000       0.000000   \n",
       "25%           0.000000       0.000000       0.000000       0.000000   \n",
       "50%           0.000000       0.000000       0.000000       0.000000   \n",
       "75%           0.000000       0.000000       0.000000       0.000000   \n",
       "max           1.000000       1.000000       1.000000       1.000000   \n",
       "\n",
       "                 OSF            RNF  \n",
       "count  136429.000000  136429.000000  \n",
       "mean        0.003958       0.002258  \n",
       "std         0.062789       0.047461  \n",
       "min         0.000000       0.000000  \n",
       "25%         0.000000       0.000000  \n",
       "50%         0.000000       0.000000  \n",
       "75%         0.000000       0.000000  \n",
       "max         1.000000       1.000000  "
      ]
     },
     "execution_count": 3,
     "metadata": {},
     "output_type": "execute_result"
    }
   ],
   "source": [
    "data_train.describe()"
   ]
  },
  {
   "cell_type": "code",
   "execution_count": 4,
   "metadata": {},
   "outputs": [
    {
     "data": {
      "text/plain": [
       "id                         0\n",
       "Product ID                 0\n",
       "Type                       0\n",
       "Air temperature [K]        0\n",
       "Process temperature [K]    0\n",
       "Rotational speed [rpm]     0\n",
       "Torque [Nm]                0\n",
       "Tool wear [min]            0\n",
       "Machine failure            0\n",
       "TWF                        0\n",
       "HDF                        0\n",
       "PWF                        0\n",
       "OSF                        0\n",
       "RNF                        0\n",
       "dtype: int64"
      ]
     },
     "execution_count": 4,
     "metadata": {},
     "output_type": "execute_result"
    }
   ],
   "source": [
    "data_train.isnull().sum()"
   ]
  },
  {
   "cell_type": "code",
   "execution_count": 5,
   "metadata": {},
   "outputs": [
    {
     "data": {
      "text/plain": [
       "<Axes: >"
      ]
     },
     "execution_count": 5,
     "metadata": {},
     "output_type": "execute_result"
    },
    {
     "data": {
      "image/png": "[encoded data removed]",
      "text/plain": [
       "<Figure size 640x480 with 2 Axes>"
      ]
     },
     "metadata": {},
     "output_type": "display_data"
    }
   ],
   "source": [
    "sns.heatmap(data_train.isnull())"
   ]
  },
  {
   "cell_type": "code",
   "execution_count": 6,
   "metadata": {},
   "outputs": [
    {
     "data": {
      "text/plain": [
       "[('id', dtype('int64'), 136429),\n",
       " ('Product ID', dtype('O'), 9976),\n",
       " ('Type', dtype('O'), 3),\n",
       " ('Air temperature [K]', dtype('float64'), 95),\n",
       " ('Process temperature [K]', dtype('float64'), 81),\n",
       " ('Rotational speed [rpm]', dtype('int64'), 952),\n",
       " ('Torque [Nm]', dtype('float64'), 611),\n",
       " ('Tool wear [min]', dtype('int64'), 246),\n",
       " ('Machine failure', dtype('int64'), 2),\n",
       " ('TWF', dtype('int64'), 2),\n",
       " ('HDF', dtype('int64'), 2),\n",
       " ('PWF', dtype('int64'), 2),\n",
       " ('OSF', dtype('int64'), 2),\n",
       " ('RNF', dtype('int64'), 2)]"
      ]
     },
     "execution_count": 6,
     "metadata": {},
     "output_type": "execute_result"
    }
   ],
   "source": [
    "list(zip(data_train.columns,data_train.dtypes,data_train.nunique()))"
   ]
  },
  {
   "cell_type": "code",
   "execution_count": 7,
   "metadata": {},
   "outputs": [
    {
     "data": {
      "text/plain": [
       "[('id', dtype('int64'), 136429),\n",
       " ('Product ID', dtype('O'), 9976),\n",
       " ('Type', dtype('O'), 3),\n",
       " ('Air temperature [K]', dtype('float64'), 95),\n",
       " ('Process temperature [K]', dtype('float64'), 81),\n",
       " ('Rotational speed [rpm]', dtype('int64'), 952),\n",
       " ('Torque [Nm]', dtype('float64'), 611),\n",
       " ('Tool wear [min]', dtype('int64'), 246),\n",
       " ('TWF', dtype('int64'), 2),\n",
       " ('HDF', dtype('int64'), 2),\n",
       " ('PWF', dtype('int64'), 2),\n",
       " ('OSF', dtype('int64'), 2),\n",
       " ('RNF', dtype('int64'), 2)]"
      ]
     },
     "execution_count": 7,
     "metadata": {},
     "output_type": "execute_result"
    }
   ],
   "source": [
    "list(zip(data_test.columns,data_train.dtypes,data_train.nunique()))"
   ]
  },
  {
   "cell_type": "code",
   "execution_count": 8,
   "metadata": {},
   "outputs": [
    {
     "data": {
      "text/plain": [
       "<Axes: xlabel='Type', ylabel='count'>"
      ]
     },
     "execution_count": 8,
     "metadata": {},
     "output_type": "execute_result"
    },
    {
     "data": {
      "image/png": "[encoded data removed]",
      "text/plain": [
       "<Figure size 640x480 with 1 Axes>"
      ]
     },
     "metadata": {},
     "output_type": "display_data"
    }
   ],
   "source": [
    "sns.countplot(x=\"Type\", data=data_train)"
   ]
  },
  {
   "cell_type": "code",
   "execution_count": 9,
   "metadata": {},
   "outputs": [
    {
     "data": {
      "text/plain": [
       "Machine failure\n",
       "0    134281\n",
       "1      2148\n",
       "Name: count, dtype: int64"
      ]
     },
     "execution_count": 9,
     "metadata": {},
     "output_type": "execute_result"
    }
   ],
   "source": [
    "#hatalı/hatasız durumların toplam sayısı\n",
    "data_train['Machine failure'].value_counts()"
   ]
  },
  {
   "cell_type": "markdown",
   "metadata": {},
   "source": [
    "Preprocessing"
   ]
  },
  {
   "cell_type": "code",
   "execution_count": 10,
   "metadata": {},
   "outputs": [
    {
     "data": {
      "text/plain": [
       "(       H      L      M\n",
       " 0  False   True  False\n",
       " 1  False  False   True\n",
       " 2  False   True  False\n",
       " 3  False   True  False\n",
       " 4  False  False   True,\n",
       "        H      L      M\n",
       " 0  False   True  False\n",
       " 1  False  False   True\n",
       " 2  False   True  False\n",
       " 3  False   True  False\n",
       " 4  False  False   True)"
      ]
     },
     "execution_count": 10,
     "metadata": {},
     "output_type": "execute_result"
    }
   ],
   "source": [
    "typesTrain=pd.get_dummies(data_train['Type'], drop_first=False)\n",
    "typesTest=pd.get_dummies(data_train['Type'], drop_first=False)\n",
    "\n",
    "typesTrain.head(),typesTest.head()"
   ]
  },
  {
   "cell_type": "code",
   "execution_count": 11,
   "metadata": {},
   "outputs": [
    {
     "data": {
      "text/plain": [
       "(   H  L  M\n",
       " 0  0  1  0\n",
       " 1  0  0  1\n",
       " 2  0  1  0\n",
       " 3  0  1  0\n",
       " 4  0  0  1,\n",
       "    H  L  M\n",
       " 0  0  1  0\n",
       " 1  0  0  1\n",
       " 2  0  1  0\n",
       " 3  0  1  0\n",
       " 4  0  0  1)"
      ]
     },
     "execution_count": 11,
     "metadata": {},
     "output_type": "execute_result"
    }
   ],
   "source": [
    "mapping_boolean = {True: 1, False: 0}\n",
    "typesTrain['H'] = typesTrain['H'].map(mapping_boolean)\n",
    "typesTrain['L'] = typesTrain['L'].map(mapping_boolean)\n",
    "typesTrain['M'] = typesTrain['M'].map(mapping_boolean)\n",
    "\n",
    "mapping_boolean = {True: 1, False: 0}\n",
    "typesTest['H'] = typesTest['H'].map(mapping_boolean)\n",
    "typesTest['L'] = typesTest['L'].map(mapping_boolean)\n",
    "typesTest['M'] = typesTest['M'].map(mapping_boolean)\n",
    "typesTrain.head(),typesTest.head()"
   ]
  },
  {
   "cell_type": "code",
   "execution_count": 12,
   "metadata": {},
   "outputs": [
    {
     "data": {
      "text/plain": [
       "(   id Product ID Type  Air temperature [K]  Process temperature [K]  \\\n",
       " 0   0     L50096    L                300.6                    309.6   \n",
       " 1   1     M20343    M                302.6                    312.1   \n",
       " 2   2     L49454    L                299.3                    308.5   \n",
       " 3   3     L53355    L                301.0                    310.9   \n",
       " 4   4     M24050    M                298.0                    309.0   \n",
       " \n",
       "    Rotational speed [rpm]  Torque [Nm]  Tool wear [min]  Machine failure  TWF  \\\n",
       " 0                    1596         36.1              140                0    0   \n",
       " 1                    1759         29.1              200                0    0   \n",
       " 2                    1805         26.5               25                0    0   \n",
       " 3                    1524         44.3              197                0    0   \n",
       " 4                    1641         35.4               34                0    0   \n",
       " \n",
       "    HDF  PWF  OSF  RNF  H  L  M  \n",
       " 0    0    0    0    0  0  1  0  \n",
       " 1    0    0    0    0  0  0  1  \n",
       " 2    0    0    0    0  0  1  0  \n",
       " 3    0    0    0    0  0  1  0  \n",
       " 4    0    0    0    0  0  0  1  ,\n",
       "          id Product ID Type  Air temperature [K]  Process temperature [K]  \\\n",
       " 0  136429.0     L50896    L                302.3                    311.5   \n",
       " 1  136430.0     L53866    L                301.7                    311.0   \n",
       " 2  136431.0     L50498    L                301.3                    310.4   \n",
       " 3  136432.0     M21232    M                300.1                    309.6   \n",
       " 4  136433.0     M19751    M                303.4                    312.3   \n",
       " \n",
       "    Rotational speed [rpm]  Torque [Nm]  Tool wear [min]  TWF  HDF  PWF  OSF  \\\n",
       " 0                  1499.0         38.0             60.0  0.0  0.0  0.0  0.0   \n",
       " 1                  1713.0         28.8             17.0  0.0  0.0  0.0  0.0   \n",
       " 2                  1525.0         37.7             96.0  0.0  0.0  0.0  0.0   \n",
       " 3                  1479.0         47.6              5.0  0.0  0.0  0.0  0.0   \n",
       " 4                  1515.0         41.3            114.0  0.0  0.0  0.0  0.0   \n",
       " \n",
       "    RNF  H  L  M  \n",
       " 0  0.0  0  1  0  \n",
       " 1  0.0  0  0  1  \n",
       " 2  0.0  0  1  0  \n",
       " 3  0.0  0  1  0  \n",
       " 4  0.0  0  0  1  )"
      ]
     },
     "execution_count": 12,
     "metadata": {},
     "output_type": "execute_result"
    }
   ],
   "source": [
    "data_train=pd.concat([data_train, typesTrain], axis=1)\n",
    "data_test=pd.concat([data_test, typesTest], axis=1)\n",
    "\n",
    "id=data_test['id']\n",
    "\n",
    "data_train.head(), data_test.head()"
   ]
  },
  {
   "cell_type": "code",
   "execution_count": 13,
   "metadata": {},
   "outputs": [
    {
     "data": {
      "text/plain": [
       "(   Air temperature [K]  Process temperature [K]  Rotational speed [rpm]  \\\n",
       " 0                300.6                    309.6                    1596   \n",
       " 1                302.6                    312.1                    1759   \n",
       " 2                299.3                    308.5                    1805   \n",
       " 3                301.0                    310.9                    1524   \n",
       " 4                298.0                    309.0                    1641   \n",
       " \n",
       "    Torque [Nm]  Tool wear [min]  Machine failure  TWF  HDF  PWF  OSF  RNF  H  \\\n",
       " 0         36.1              140                0    0    0    0    0    0  0   \n",
       " 1         29.1              200                0    0    0    0    0    0  0   \n",
       " 2         26.5               25                0    0    0    0    0    0  0   \n",
       " 3         44.3              197                0    0    0    0    0    0  0   \n",
       " 4         35.4               34                0    0    0    0    0    0  0   \n",
       " \n",
       "    L  M  \n",
       " 0  1  0  \n",
       " 1  0  1  \n",
       " 2  1  0  \n",
       " 3  1  0  \n",
       " 4  0  1  ,\n",
       "    Air temperature [K]  Process temperature [K]  Rotational speed [rpm]  \\\n",
       " 0                302.3                    311.5                  1499.0   \n",
       " 1                301.7                    311.0                  1713.0   \n",
       " 2                301.3                    310.4                  1525.0   \n",
       " 3                300.1                    309.6                  1479.0   \n",
       " 4                303.4                    312.3                  1515.0   \n",
       " \n",
       "    Torque [Nm]  Tool wear [min]  TWF  HDF  PWF  OSF  RNF  H  L  M  \n",
       " 0         38.0             60.0  0.0  0.0  0.0  0.0  0.0  0  1  0  \n",
       " 1         28.8             17.0  0.0  0.0  0.0  0.0  0.0  0  0  1  \n",
       " 2         37.7             96.0  0.0  0.0  0.0  0.0  0.0  0  1  0  \n",
       " 3         47.6              5.0  0.0  0.0  0.0  0.0  0.0  0  1  0  \n",
       " 4         41.3            114.0  0.0  0.0  0.0  0.0  0.0  0  0  1  )"
      ]
     },
     "execution_count": 13,
     "metadata": {},
     "output_type": "execute_result"
    }
   ],
   "source": [
    "data_train.drop([\"id\",\"Product ID\",\"Type\"], axis=1, inplace=True)\n",
    "data_test.drop([\"id\",\"Product ID\",\"Type\"], axis=1, inplace=True)\n",
    "\n",
    "data_train.head(), data_test.head()"
   ]
  },
  {
   "cell_type": "code",
   "execution_count": 14,
   "metadata": {},
   "outputs": [],
   "source": [
    "y=data_train['Machine failure']\n",
    "data_train.drop(['Machine failure'], axis=1, inplace=True)"
   ]
  },
  {
   "cell_type": "markdown",
   "metadata": {},
   "source": [
    "Burada yapılacak işlem cross_val_score ulaşabilmek için yapıyoruz yoksa\n",
    "feature_names must be string, and may not contain [, ] or <\n",
    "hatası alıyoruz"
   ]
  },
  {
   "cell_type": "code",
   "execution_count": 15,
   "metadata": {},
   "outputs": [
    {
     "name": "stdout",
     "output_type": "stream",
     "text": [
      "Index(['Air temperature', 'Process temperature', 'Rotational speed', 'Torque',\n",
      "       'Tool wear', 'TWF', 'HDF', 'PWF', 'OSF', 'RNF', 'H', 'L', 'M'],\n",
      "      dtype='object')\n"
     ]
    }
   ],
   "source": [
    "original_columns = [                                                    #orjinal stun adlarını belirlemek için kullanılmış\n",
    "    'Air temperature [K]',\n",
    "    'Process temperature [K]',\n",
    "    'Rotational speed [rpm]',\n",
    "    'Torque [Nm]',\n",
    "    'Tool wear [min]'\n",
    "]\n",
    "\n",
    "new_columns = {col: col.split(' [')[0] for col in original_columns}     #yeni stun oluşturup stün adlarını daha anlamlı hale getirmek için kullanılır\n",
    "data_train = data_train.rename(columns=new_columns)                     #data_train stün adlarıonı yeni stun isimleriyle değiştirir\n",
    "\n",
    "data_test = data_test.rename(columns=new_columns)                       #aynı işlemi data_test içinde yapar\n",
    "print(data_test.columns)                                               #yapılan işlemlerin kontrolü sağlanır"
   ]
  },
  {
   "cell_type": "markdown",
   "metadata": {},
   "source": [
    "**XGMClassifier**"
   ]
  },
  {
   "cell_type": "code",
   "execution_count": 16,
   "metadata": {},
   "outputs": [
    {
     "name": "stdout",
     "output_type": "stream",
     "text": [
      "Accuracy:0.9962\n"
     ]
    }
   ],
   "source": [
    "import xgboost as xgb\n",
    "\n",
    "xgb_model = xgb.XGBClassifier(n_estimators=100, objective='binary:logistic', tree_method='hist', max_depth=3, learning_rate=0.1)\n",
    "xgb_model.fit(data_train, y)\n",
    "\n",
    "TrainAccuracy=xgb_model.score(data_train, y)\n",
    "print(f\"Accuracy:{TrainAccuracy:.4f}\")"
   ]
  },
  {
   "cell_type": "markdown",
   "metadata": {},
   "source": [
    "**RandomForestClassifier**"
   ]
  },
  {
   "cell_type": "code",
   "execution_count": 17,
   "metadata": {},
   "outputs": [
    {
     "name": "stdout",
     "output_type": "stream",
     "text": [
      "Accuracy:0.9998\n"
     ]
    }
   ],
   "source": [
    "from sklearn.ensemble import RandomForestClassifier\n",
    "\n",
    "rf_model = RandomForestClassifier(n_estimators=100, random_state=42)\n",
    "rf_model.fit(data_train, y)\n",
    "\n",
    "TrainAccuracy=rf_model.score(data_train, y)\n",
    "print(f\"Accuracy:{TrainAccuracy:.4f}\")"
   ]
  },
  {
   "cell_type": "markdown",
   "metadata": {},
   "source": [
    "**k-Nearest Neighbors (KNN)**"
   ]
  },
  {
   "cell_type": "code",
   "execution_count": 18,
   "metadata": {},
   "outputs": [
    {
     "name": "stdout",
     "output_type": "stream",
     "text": [
      "Accuracy:0.9884\n"
     ]
    }
   ],
   "source": [
    "from sklearn.neighbors import KNeighborsClassifier\n",
    "\n",
    "knn_model=KNeighborsClassifier(n_neighbors=2)\n",
    "knn_model.fit(data_train,y)\n",
    "\n",
    "TrainAccuracy=knn_model.score(data_train,y)\n",
    "print(f\"Accuracy:{TrainAccuracy:.4f}\")"
   ]
  },
  {
   "cell_type": "markdown",
   "metadata": {},
   "source": [
    "**LogisticRegression**"
   ]
  },
  {
   "cell_type": "code",
   "execution_count": 19,
   "metadata": {},
   "outputs": [
    {
     "name": "stdout",
     "output_type": "stream",
     "text": [
      "Accuracy:0.9954\n"
     ]
    },
    {
     "name": "stderr",
     "output_type": "stream",
     "text": [
      "c:\\Users\\Basri\\AppData\\Local\\Programs\\Python\\Python312\\Lib\\site-packages\\sklearn\\linear_model\\_logistic.py:469: ConvergenceWarning: lbfgs failed to converge (status=1):\n",
      "STOP: TOTAL NO. of ITERATIONS REACHED LIMIT.\n",
      "\n",
      "Increase the number of iterations (max_iter) or scale the data as shown in:\n",
      "    https://scikit-learn.org/stable/modules/preprocessing.html\n",
      "Please also refer to the documentation for alternative solver options:\n",
      "    https://scikit-learn.org/stable/modules/linear_model.html#logistic-regression\n",
      "  n_iter_i = _check_optimize_result(\n"
     ]
    }
   ],
   "source": [
    "from sklearn.linear_model import LogisticRegression\n",
    "\n",
    "lr_model=LogisticRegression()\n",
    "lr_model.fit(data_train,y)\n",
    "\n",
    "TrainAccuracy=lr_model.score(data_train,y)\n",
    "print(f\"Accuracy:{TrainAccuracy:.4f}\")"
   ]
  },
  {
   "cell_type": "markdown",
   "metadata": {},
   "source": [
    "**DecisionTreeClassifier**"
   ]
  },
  {
   "cell_type": "code",
   "execution_count": 20,
   "metadata": {},
   "outputs": [
    {
     "name": "stdout",
     "output_type": "stream",
     "text": [
      "Accuracy:0.9948\n"
     ]
    }
   ],
   "source": [
    "from sklearn.tree import DecisionTreeClassifier\n",
    "\n",
    "dt_model=DecisionTreeClassifier(criterion=\"entropy\", max_depth=3, min_samples_split=4, random_state=42)\n",
    "dt_model.fit(data_train,y)\n",
    "\n",
    "TrainAccuracy=dt_model.score(data_train,y)\n",
    "print(f\"Accuracy:{TrainAccuracy:.4f}\")"
   ]
  },
  {
   "cell_type": "markdown",
   "metadata": {},
   "source": [
    "**SVC**"
   ]
  },
  {
   "cell_type": "code",
   "execution_count": 21,
   "metadata": {},
   "outputs": [
    {
     "name": "stdout",
     "output_type": "stream",
     "text": [
      "Accuracy:0.9843\n"
     ]
    }
   ],
   "source": [
    "from sklearn.svm import SVC\n",
    "\n",
    "svc_model=SVC(random_state=42)\n",
    "svc_model.fit(data_train,y)\n",
    "\n",
    "TrainAccuracy=svc_model.score(data_train,y)\n",
    "print(f\"Accuracy:{TrainAccuracy:.4f}\")"
   ]
  },
  {
   "cell_type": "code",
   "execution_count": 22,
   "metadata": {},
   "outputs": [],
   "source": [
    "predicts=rf_model.predict(data_test)\n",
    "df_submit=pd.DataFrame({'id':id,'Machine failure':predicts})\n",
    "df_submit.to_csv('sub.csv', index=False)"
   ]
  }
 ],
 "metadata": {
  "kernelspec": {
   "display_name": "Python 3",
   "language": "python",
   "name": "python3"
  },
  "language_info": {
   "codemirror_mode": {
    "name": "ipython",
    "version": 3
   },
   "file_extension": ".py",
   "mimetype": "text/x-python",
   "name": "python",
   "nbconvert_exporter": "python",
   "pygments_lexer": "ipython3",
   "version": "3.12.2"
  }
 },
 "nbformat": 4,
 "nbformat_minor": 2
}
